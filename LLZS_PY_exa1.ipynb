{
  "nbformat": 4,
  "nbformat_minor": 0,
  "metadata": {
    "colab": {
      "provenance": [],
      "authorship_tag": "ABX9TyNDOFrxEmAF/6D9rO7IRbIA",
      "include_colab_link": true
    },
    "kernelspec": {
      "name": "python3",
      "display_name": "Python 3"
    },
    "language_info": {
      "name": "python"
    }
  },
  "cells": [
    {
      "cell_type": "markdown",
      "metadata": {
        "id": "view-in-github",
        "colab_type": "text"
      },
      "source": [
        "<a href=\"https://colab.research.google.com/github/luisa988/LLZS_PY_exa1/blob/main/LLZS_PY_exa1.ipynb\" target=\"_parent\"><img src=\"https://colab.research.google.com/assets/colab-badge.svg\" alt=\"Open In Colab\"/></a>"
      ]
    },
    {
      "cell_type": "code",
      "source": [
        "def factorial(n):\n",
        "    if n == 0:\n",
        "        return 1\n",
        "    else:\n",
        "        return n * factorial(n-1)\n",
        "\n",
        "numero = 5\n",
        "resultado = factorial(numero)\n",
        "print(f\"El factorial de {numero} es {resultado}\")\n"
      ],
      "metadata": {
        "colab": {
          "base_uri": "https://localhost:8080/"
        },
        "id": "JlU2f4SyAsAU",
        "outputId": "fa47a312-5561-44c8-9bce-9b3338e4dc3b"
      },
      "execution_count": 4,
      "outputs": [
        {
          "output_type": "stream",
          "name": "stdout",
          "text": [
            "El factorial de 5 es 120\n"
          ]
        }
      ]
    },
    {
      "cell_type": "code",
      "source": [
        "def calcular_area(base, altura):\n",
        "    area = (base * altura) / 2\n",
        "    return area\n",
        "base = float(input(\"Ingrese la base del triángulo: \"))\n",
        "altura = float(input(\"Ingrese la altura del triángulo: \"))\n",
        "\n",
        "area = calcular_area(base, altura)\n",
        "\n",
        "print(\"El área del triángulo es:\", area)\n"
      ],
      "metadata": {
        "colab": {
          "base_uri": "https://localhost:8080/"
        },
        "id": "VrSLd0-8By3U",
        "outputId": "13f8001b-14d7-435c-8c3c-22e937a7f54b"
      },
      "execution_count": 6,
      "outputs": [
        {
          "output_type": "stream",
          "name": "stdout",
          "text": [
            "Ingrese la base del triángulo: 30\n",
            "Ingrese la altura del triángulo: 40\n",
            "El área del triángulo es: 600.0\n"
          ]
        }
      ]
    },
    {
      "cell_type": "code",
      "source": [
        "def validar_numero(rango_min, rango_max):\n",
        "    while True:\n",
        "        try:\n",
        "            numero = int(input(\"Ingrese un número: \"))\n",
        "            if numero < rango_min or numero > rango_max:\n",
        "                print(\"El número está fuera del rango válido.\")\n",
        "            else:\n",
        "                return numero\n",
        "        except ValueError:\n",
        "            print(\"Error: Ingrese un número válido.\")\n",
        "\n",
        "rango_minimo = 1\n",
        "rango_maximo = 10\n",
        "\n",
        "numero_validado = validar_numero(rango_minimo, rango_maximo)\n",
        "print(\"El número válido es:\", numero_validado)\n"
      ],
      "metadata": {
        "colab": {
          "base_uri": "https://localhost:8080/"
        },
        "id": "o5jO9MzvB_Kd",
        "outputId": "a3b87554-ba6f-4b49-a62b-0d7acafebab1"
      },
      "execution_count": 8,
      "outputs": [
        {
          "output_type": "stream",
          "name": "stdout",
          "text": [
            "Ingrese un número: 9\n",
            "El número válido es: 9\n"
          ]
        }
      ]
    }
  ]
}